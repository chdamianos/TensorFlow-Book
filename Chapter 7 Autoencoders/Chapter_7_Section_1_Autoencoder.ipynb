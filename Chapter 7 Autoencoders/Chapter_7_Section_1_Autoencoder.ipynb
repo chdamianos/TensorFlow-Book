{
 "cells": [
  {
   "cell_type": "markdown",
   "metadata": {},
   "source": [
    "## Ch `07`: Concept `01`"
   ]
  },
  {
   "cell_type": "markdown",
   "metadata": {},
   "source": [
    "## Autoencoder"
   ]
  },
  {
   "cell_type": "markdown",
   "metadata": {},
   "source": [
    "All we'll need is TensorFlow and NumPy:"
   ]
  },
  {
   "cell_type": "code",
   "execution_count": 1,
   "metadata": {},
   "outputs": [],
   "source": [
    "import tensorflow as tf\n",
    "import numpy as np"
   ]
  },
  {
   "cell_type": "markdown",
   "metadata": {},
   "source": [
    "Define the autoencoder class:"
   ]
  },
  {
   "cell_type": "code",
   "execution_count": 2,
   "metadata": {},
   "outputs": [],
   "source": [
    "import tensorflow as tf\n",
    "import numpy as np\n",
    "import datetime as dt\n",
    "\n",
    "def get_batch(X, size):\n",
    "    \"\"\"Instead of feeding all the training data to the training op, we will feed data in small batches:\"\"\"\n",
    "    a = np.random.choice(len(X), size, replace=False)\n",
    "    return X[a]\n",
    "\n",
    "class Autoencoder:\n",
    "    def __init__(self, input_dim, hidden_dim, epoch=1000, batch_size=50, learning_rate=0.001):\n",
    "        # In the construct we can define eveything that doesn't need a tf session to be defined\n",
    "        self.epoch = epoch\n",
    "        self.batch_size = batch_size\n",
    "        self.learning_rate = learning_rate\n",
    "        # Input placeholder\n",
    "        x = tf.placeholder(dtype=tf.float32, shape=[None, input_dim])\n",
    "        # *** TENSORBOARD ***\n",
    "        # define the encode/decode variables under their own scopes \n",
    "        # for better visualisation in Tensorboard\n",
    "        # *** TENSORBOARD ***\n",
    "        with tf.name_scope('encode'):\n",
    "            weights = tf.Variable(tf.random_normal([input_dim, hidden_dim], dtype=tf.float32), name='weights')\n",
    "            biases = tf.Variable(tf.zeros([hidden_dim]), name='biases')\n",
    "            encoded = tf.nn.sigmoid(tf.matmul(x, weights) + biases)\n",
    "        with tf.name_scope('decode'):\n",
    "            weights = tf.Variable(tf.random_normal([hidden_dim, input_dim], dtype=tf.float32), name='weights')\n",
    "            biases = tf.Variable(tf.zeros([input_dim]), name='biases')\n",
    "            decoded = tf.matmul(encoded, weights) + biases\n",
    "        # set as class properies/methods\n",
    "        self.x = x\n",
    "        self.encoded = encoded\n",
    "        self.decoded = decoded\n",
    "        # loss\n",
    "        self.loss = tf.sqrt(tf.reduce_mean(tf.square(tf.subtract(self.x, self.decoded))))\n",
    "        # *** TENSORBOARD ***\n",
    "        # add a summary tensor to collect the loss   \n",
    "        self.loss_summ = tf.summary.scalar('loss', self.loss)\n",
    "        # *** TENSORBOARD ***\n",
    "        # optimiser\n",
    "        self.train_op = tf.train.RMSPropOptimizer(self.learning_rate).minimize(self.loss)\n",
    "        # model saver\n",
    "        self.saver = tf.train.Saver()\n",
    "\n",
    "    def train(self, data):\n",
    "        with tf.Session() as sess:\n",
    "            sess.run(tf.global_variables_initializer())\n",
    "            sess.run(tf.local_variables_initializer())\n",
    "            # *** TENSORBOARD ***\n",
    "            # set directory to collect saved summary tensors with each run \n",
    "            # based on run time\n",
    "            now = dt.datetime.now()\n",
    "            currentDir = \"./logs/\" + now.strftime(\"%Y%m%d-%H%M%S\") + \"/\"\n",
    "            # create writer and set directory and graph\n",
    "            writer = tf.summary.FileWriter(currentDir, graph=sess.graph)\n",
    "            # save graph in the PARENT directory of logs\n",
    "            # this looks like it's not needed...\n",
    "            # tf.train.write_graph(sess.graph_def, currentDir, 'graph.pbtxt')\n",
    "            # *** TENSORBOARD ***\n",
    "            # iterate over every epoch\n",
    "            for i in range(self.epoch):\n",
    "                # iterate over every batch\n",
    "                for j in range(np.shape(data)[0] // self.batch_size):\n",
    "                    batch_data = get_batch(data, self.batch_size)\n",
    "                    l, _, l_summ = sess.run([self.loss, self.train_op, self.loss_summ], \n",
    "                                            feed_dict={self.x: batch_data})\n",
    "                    # *** TENSORBOARD ***\n",
    "                    # record loss with each batch\n",
    "                    # writer.add_summary(summary=l_summ, global_step=i)\n",
    "                    # writer.flush()\n",
    "                    # *** TENSORBOARD ***\n",
    "                if i % 100 == 0:\n",
    "                    print('epoch {0}: loss = {1}'.format(i, l))\n",
    "                    self.saver.save(sess, './model.ckpt')\n",
    "                    # *** TENSORBOARD ***\n",
    "                    # every 10 epochs\n",
    "                    writer.add_summary(summary=l_summ, global_step=i)\n",
    "                    writer.flush()\n",
    "                    # *** TENSORBOARD ***\n",
    "                # *** TENSORBOARD ***\n",
    "                # record loss with each epoch\n",
    "                # writer.add_summary(summary=l_summ, global_step=i)\n",
    "                # writer.flush()\n",
    "                # *** TENSORBOARD ***\n",
    "            # save model\n",
    "            self.saver.save(sess, './model.ckpt')\n",
    "            # close writer\n",
    "            writer.close()\n",
    "        \n",
    "    def test(self, data):\n",
    "        # load model\n",
    "        with tf.Session() as sess:\n",
    "            self.saver.restore(sess, './model.ckpt')\n",
    "            # run test data through encoder and decoder\n",
    "            hidden, reconstructed = sess.run([self.encoded, self.decoded], feed_dict={self.x: data})\n",
    "        print('input', data)\n",
    "        print('compressed', hidden)\n",
    "        print('reconstructed', reconstructed)\n",
    "        return reconstructed"
   ]
  },
  {
   "cell_type": "markdown",
   "metadata": {},
   "source": [
    "The *Iris dataset* is often used as a simple training dataset to check whether a classification algorithm is working. The sklearn library comes with it, `pip install sklearn`."
   ]
  },
  {
   "cell_type": "code",
   "execution_count": 3,
   "metadata": {},
   "outputs": [
    {
     "name": "stdout",
     "output_type": "stream",
     "text": [
      "epoch 0: loss = 3.8478190898895264\n",
      "epoch 100: loss = 3.721243381500244\n",
      "epoch 200: loss = 3.223569393157959\n",
      "epoch 300: loss = 2.8416402339935303\n",
      "epoch 400: loss = 2.2708091735839844\n",
      "epoch 500: loss = 1.8190032243728638\n",
      "epoch 600: loss = 1.4302263259887695\n",
      "epoch 700: loss = 1.1656414270401\n",
      "epoch 800: loss = 1.0143120288848877\n",
      "epoch 900: loss = 0.9401819109916687\n",
      "INFO:tensorflow:Restoring parameters from ./model.ckpt\n",
      "input [[8, 4, 6, 2]]\n",
      "compressed [[0.97981286]]\n",
      "reconstructed [[6.7325454 3.0909522 4.3031726 1.5267226]]\n"
     ]
    },
    {
     "data": {
      "text/plain": [
       "array([[6.7325454, 3.0909522, 4.3031726, 1.5267226]], dtype=float32)"
      ]
     },
     "execution_count": 3,
     "metadata": {},
     "output_type": "execute_result"
    }
   ],
   "source": [
    "from sklearn import datasets\n",
    "\n",
    "# hidden dimensions \n",
    "hidden_dim = 1\n",
    "# load only the feature data from the Iris data set\n",
    "data = datasets.load_iris().data\n",
    "# the dimensions of the input data, for Iris it's 4\n",
    "input_dim = len(data[0])\n",
    "# create an instance of the autoencoder with the necessary dimensions\n",
    "ae = Autoencoder(input_dim, hidden_dim)\n",
    "ae.train(data)\n",
    "ae.test([[8, 4, 6, 2]])"
   ]
  }
 ],
 "metadata": {
  "kernelspec": {
   "display_name": "Python [conda env:tfCPU]",
   "language": "python",
   "name": "conda-env-tfCPU-py"
  },
  "language_info": {
   "codemirror_mode": {
    "name": "ipython",
    "version": 3
   },
   "file_extension": ".py",
   "mimetype": "text/x-python",
   "name": "python",
   "nbconvert_exporter": "python",
   "pygments_lexer": "ipython3",
   "version": "3.5.6"
  }
 },
 "nbformat": 4,
 "nbformat_minor": 1
}
