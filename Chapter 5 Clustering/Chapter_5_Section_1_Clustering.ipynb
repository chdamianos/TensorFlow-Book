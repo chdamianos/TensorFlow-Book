{
 "cells": [
  {
   "cell_type": "markdown",
   "metadata": {},
   "source": [
    "# Ch `05`: Concept `01`"
   ]
  },
  {
   "cell_type": "markdown",
   "metadata": {},
   "source": [
    "## Clustering"
   ]
  },
  {
   "cell_type": "markdown",
   "metadata": {},
   "source": [
    "We're going to need a Python library called the BregmanToolkit. It's available here: https://github.com/BinRoot/BregmanToolkit\n",
    "\n",
    "One way to install it is by downloading from the GitHub link above, and then running `sudo python setup.py install` in the downloaded directory. You will also need scipy: `sudo pip2 install scipy`. Unfortunately, this BregmanToolkit library isn't supported on Python 3, so you'll have to use Python 2.\n"
   ]
  },
  {
   "cell_type": "code",
   "execution_count": 1,
   "metadata": {},
   "outputs": [],
   "source": [
    "%matplotlib inline\n",
    "import warnings\n",
    "warnings.filterwarnings(\"ignore\")\n",
    "import tensorflow as tf\n",
    "import numpy as np\n",
    "from bregman.suite import *"
   ]
  },
  {
   "cell_type": "markdown",
   "metadata": {},
   "source": [
    "Define some hyper-parameters for clustering:"
   ]
  },
  {
   "cell_type": "code",
   "execution_count": 2,
   "metadata": {},
   "outputs": [],
   "source": [
    "k = 2\n",
    "max_iterations = 100"
   ]
  },
  {
   "cell_type": "markdown",
   "metadata": {},
   "source": [
    "Select the location for the audio files:"
   ]
  },
  {
   "cell_type": "code",
   "execution_count": 12,
   "metadata": {},
   "outputs": [],
   "source": [
    "filenames = tf.train.match_filenames_once('./audio_dataset/*.wav')\n",
    "# with tf.Session() as sess:\n",
    "# sess.run(tf.global_variables_initializer())\n",
    "# sess.run(tf.local_variables_initializer())\n",
    "# print(filenames.eval())\n",
    "count_num_files = tf.size(filenames)\n",
    "# print(count_num_files.eval())\n",
    "filename_queue = tf.train.string_input_producer(filenames)\n",
    "\n",
    "reader = tf.WholeFileReader()\n",
    "filename, file_contents = reader.read(filename_queue)\n",
    "\n",
    "chromo = tf.placeholder(tf.float32)\n",
    "\n",
    "max_freqs = tf.argmax(chromo, 0)"
   ]
  },
  {
   "cell_type": "markdown",
   "metadata": {},
   "source": [
    "Create a helper function to get the next audio file's Chromogram:\n",
    "\n",
    "Chromogram:\n",
    "A sound may produce 12 kinds of pitches. In music terminology, the 12 pitches are C, C#,\n",
    "D, D#, E, F, F#, G, G#, A, A#, and B. Listing 5.2 shows how to retrieve the contribution of\n",
    "each pitch in a 0.1 second interval, resulting in a matrix with 12 rows. The number of columns\n",
    "grows as the length of the audio file increases. Specifically, there will be 10*t columns for a t\n",
    "second audio. This matrix is also called a chromogram of the audio."
   ]
  },
  {
   "cell_type": "code",
   "execution_count": 4,
   "metadata": {},
   "outputs": [],
   "source": [
    "def get_next_chromogram(sess):\n",
    "    audio_file = sess.run(filename)\n",
    "    print('Loading {}'.format(audio_file))\n",
    "    F = Chromagram(audio_file, nfft=16384, wfft=8192, nhop=2205)\n",
    "    return F.X, audio_file"
   ]
  },
  {
   "cell_type": "markdown",
   "metadata": {},
   "source": [
    "And create a helper function to extract a feature vector from the Chromogram data:\n",
    "\n",
    "We count the number of times each pitch shows up in the audio file as a histogram, forming a 12-dimensional vector. If we normalize the vector so thatvall the counts add up to 1, then we can easily compare audio of different lengths."
   ]
  },
  {
   "cell_type": "code",
   "execution_count": 5,
   "metadata": {},
   "outputs": [],
   "source": [
    "def extract_feature_vector(sess, chromo_data):\n",
    "    num_features, num_samples = np.shape(chromo_data)\n",
    "    freq_vals = sess.run(max_freqs, feed_dict={chromo: chromo_data})\n",
    "    hist, bins = np.histogram(freq_vals, bins=range(num_features + 1))\n",
    "    normalized_hist = hist.astype(float) / num_samples\n",
    "    return normalized_hist"
   ]
  },
  {
   "cell_type": "markdown",
   "metadata": {},
   "source": [
    "Extract a dataset of feature vectors by calling our helper functions above:"
   ]
  },
  {
   "cell_type": "code",
   "execution_count": 6,
   "metadata": {},
   "outputs": [],
   "source": [
    "def get_dataset(sess):\n",
    "    num_files = sess.run(count_num_files)\n",
    "    coord = tf.train.Coordinator()\n",
    "    threads = tf.train.start_queue_runners(coord=coord ,sess=sess)\n",
    "    xs = list()\n",
    "    names = list()\n",
    "    \n",
    "    for _ in range(num_files):\n",
    "        plt.figure()\n",
    "        chromo_data, filename = get_next_chromogram(sess)\n",
    "\n",
    "        plt.subplot(1, 2, 1)\n",
    "        plt.imshow(chromo_data, cmap='Greys', interpolation='nearest')\n",
    "        plt.title('Visualization of Sound Spectrum')\n",
    "\n",
    "        plt.subplot(1, 2, 2)\n",
    "        freq_vals = sess.run(max_freqs, feed_dict={chromo: chromo_data})\n",
    "        plt.hist(freq_vals)\n",
    "        plt.title('Histogram of Notes')\n",
    "        plt.xlabel('Musical Note')\n",
    "        plt.ylabel('Count')\n",
    "        plt.savefig('{}.png'.format(filename))\n",
    "        plt.show()\n",
    "\n",
    "        names.append(filename)\n",
    "        x = extract_feature_vector(sess, chromo_data)\n",
    "        xs.append(x)\n",
    "    xs = np.asmatrix(xs)\n",
    "    coord.request_stop()\n",
    "    coord.join(threads)\n",
    "    return xs, names"
   ]
  },
  {
   "cell_type": "markdown",
   "metadata": {},
   "source": [
    "## k-means clustering \n"
   ]
  },
  {
   "cell_type": "markdown",
   "metadata": {},
   "source": [
    "First initialise the clusters based on the locations of the first k(2) samples"
   ]
  },
  {
   "cell_type": "code",
   "execution_count": 7,
   "metadata": {},
   "outputs": [],
   "source": [
    "def initial_cluster_centroids(X, k):\n",
    "    return X[0:k, :]"
   ]
  },
  {
   "cell_type": "markdown",
   "metadata": {},
   "source": [
    "### We need to calculate the euclidean distances of each sample from the centroids and cluster each sample to the centroid from which it has the lowest distance\n",
    "\n",
    "The `assign_cluster`function has some interesting operations that make clever use of broadcasting using [degenerate dimensions](https://www.tensorflow.org/performance/xla/broadcasting). \n",
    "\n",
    "First some details on what we want to do. We are doing clustering with two clusters. Our data are in a 12-dimensional space, since our chromograms use 12 bins (or notes) to aggregate frequencies. So our clusters are defined by 2 centroids each with 12 dimensions. So the shape of an array storing the centroids is (2,12). \n",
    "\n",
    "Let's focus on a single operation to understand broadcasting better, `tf.subtract`. Our data are in an array with shape (n,12). in this example we have 5 samples so our shape is (5,12). We would like to subtract each centroid from all of our samples and store the result in an array. This array can have shape (2,5,12). How are we going to accomplish this? We add dummy or degenerate dimensions to our centroid (`centroids`) and data (`X`) array as follows. \n",
    "\n",
    "`centroids` (2,12) -> (2,1,12) so we need to add this degenerate dimension at index [1]. We can accomplish this using `tf.expand_dims(centroids, 1)`. The `centroids` array looks close to what we want to have in our final result (2,5,12). The next step if to broadcast this `centroids` (2,1,12) array in our `X` data array. To do this we add a degenerate dimension to `X` using `tf.expand_dims(X, 0)` and the shape of `X` becomes (1,5,12). \n",
    "\n",
    "In general if we have an array A->(k,N) that we would like to apply an operation between each row A[i,:] to the row of another array B->(m,N) we need to first think of the final shape of the result. In this case it would be (k,m,N). So then we use `tf.expand_dims` to make A->(k,1,N) and B->(1,m,N). The final result of the operation will be (k,m,N)."
   ]
  },
  {
   "cell_type": "code",
   "execution_count": 8,
   "metadata": {},
   "outputs": [],
   "source": [
    "def assign_cluster(X, centroids):\n",
    "    '''\n",
    "    X: tensor (5,12) where 5 is the number of samples and 12 the features from the chromogram\n",
    "    see function extract_feature_vector\n",
    "    centroids: tensor (2,12) holding the coordinates of the centroids\n",
    "    '''    \n",
    "    # see above for why we expand dimensions\n",
    "    expanded_vectors = tf.expand_dims(X, 0)\n",
    "    expanded_centroids = tf.expand_dims(centroids, 1)\n",
    "    # calculate distances of each sample(5) from the centroids\n",
    "    # distances shape -> (2,5)\n",
    "    distances = tf.reduce_sum(tf.square(tf.subtract(expanded_vectors, expanded_centroids)), 2)\n",
    "    # assign samples to cluster based on minimum distance\n",
    "    # clusters shape->(5), example [1,0,1,0,0]\n",
    "    clusters = tf.argmin(distances, 0)\n",
    "    return clusters"
   ]
  },
  {
   "cell_type": "markdown",
   "metadata": {},
   "source": [
    "### Recompute the centroid coordinates based on the mean coordinates of the members of the clusters\n",
    "\n",
    "`tf.unsorted_segment_sum(A,B,C)` returns the sum of `A` according to index `B`. `C` defines the total number of groups. Note that in case there is a group in `C` not represented in `B` a zero will be returned in the sum. \n",
    "For example if the shape of `A` is (10,100) `B` -> (10) and `C` will be a scaler e.g. 3."
   ]
  },
  {
   "cell_type": "code",
   "execution_count": 9,
   "metadata": {},
   "outputs": [],
   "source": [
    "\n",
    "def recompute_centroids(X, Y):\n",
    "    '''\n",
    "    X: tensor (5,12) where 5 is the number of samples and 12 the features from the chromogram\n",
    "    see function extract_feature_vector\n",
    "    Y: tensor (5) holding the numeric labels of the clusters, example [0,1,0,1,1] \n",
    "    '''\n",
    "    # Calculate the sum of each dimension according to the assigned cluster\n",
    "    # sums is a (2,12) tensor holding the sums of each coordinate for the samples assigned to a specific cluster\n",
    "    sums = tf.unsorted_segment_sum(X, Y, k)\n",
    "    # to calculate the sum we also need the number of samples used to calculate the sum above\n",
    "    # counts is again a (2,12) tensor\n",
    "    counts = tf.unsorted_segment_sum(tf.ones_like(X), Y, k)\n",
    "    # the updated centroids are located at the means of the dimensions of the samples belonging to each cluster\n",
    "    meansClusters=sums / counts    \n",
    "    return meansClusters"
   ]
  },
  {
   "cell_type": "markdown",
   "metadata": {},
   "source": [
    "Open a session, obtain a dataset, and cluster the data:"
   ]
  },
  {
   "cell_type": "code",
   "execution_count": 11,
   "metadata": {},
   "outputs": [
    {
     "name": "stdout",
     "output_type": "stream",
     "text": [
      "Loading ./audio_dataset/scream_1.wav\n"
     ]
    },
    {
     "data": {
      "image/png": "[encoded data removed]",
      "text/plain": [
       "<Figure size 432x288 with 2 Axes>"
      ]
     },
     "metadata": {
      "needs_background": "light"
     },
     "output_type": "display_data"
    },
    {
     "name": "stdout",
     "output_type": "stream",
     "text": [
      "Loading ./audio_dataset/scream_2.wav\n"
     ]
    },
    {
     "data": {
      "image/png": "[encoded data removed]",
      "text/plain": [
       "<Figure size 432x288 with 2 Axes>"
      ]
     },
     "metadata": {
      "needs_background": "light"
     },
     "output_type": "display_data"
    },
    {
     "name": "stdout",
     "output_type": "stream",
     "text": [
      "Loading ./audio_dataset/cough_1.wav\n"
     ]
    },
    {
     "data": {
      "image/png": "[encoded data removed]",
      "text/plain": [
       "<Figure size 432x288 with 2 Axes>"
      ]
     },
     "metadata": {
      "needs_background": "light"
     },
     "output_type": "display_data"
    },
    {
     "name": "stdout",
     "output_type": "stream",
     "text": [
      "Loading ./audio_dataset/scream_3.wav\n"
     ]
    },
    {
     "data": {
      "image/png": "[encoded data removed]",
      "text/plain": [
       "<Figure size 432x288 with 2 Axes>"
      ]
     },
     "metadata": {
      "needs_background": "light"
     },
     "output_type": "display_data"
    },
    {
     "name": "stdout",
     "output_type": "stream",
     "text": [
      "Loading ./audio_dataset/cough_2.wav\n"
     ]
    },
    {
     "data": {
      "image/png": "[encoded data removed]",
      "text/plain": [
       "<Figure size 432x288 with 2 Axes>"
      ]
     },
     "metadata": {
      "needs_background": "light"
     },
     "output_type": "display_data"
    },
    {
     "name": "stdout",
     "output_type": "stream",
     "text": [
      "[(0, './audio_dataset/scream_1.wav'), (1, './audio_dataset/scream_2.wav'), (0, './audio_dataset/cough_1.wav'), (1, './audio_dataset/scream_3.wav'), (0, './audio_dataset/cough_2.wav')]\n"
     ]
    }
   ],
   "source": [
    "with tf.Session() as sess:\n",
    "    sess.run(tf.global_variables_initializer())\n",
    "    sess.run(tf.local_variables_initializer())\n",
    "    X, names = get_dataset(sess)\n",
    "    centroids = initial_cluster_centroids(X, k)\n",
    "    i, converged = 0, False\n",
    "    while not converged and i < max_iterations:\n",
    "        i += 1\n",
    "        Y = assign_cluster(X, centroids)\n",
    "        centroids = sess.run(recompute_centroids(X, Y))\n",
    "    print(zip(sess.run(Y), names))\n"
   ]
  }
 ],
 "metadata": {
  "kernelspec": {
   "display_name": "Python 2",
   "language": "python",
   "name": "python2"
  },
  "language_info": {
   "codemirror_mode": {
    "name": "ipython",
    "version": 2
   },
   "file_extension": ".py",
   "mimetype": "text/x-python",
   "name": "python",
   "nbconvert_exporter": "python",
   "pygments_lexer": "ipython2",
   "version": "2.7.15"
  }
 },
 "nbformat": 4,
 "nbformat_minor": 1
}
