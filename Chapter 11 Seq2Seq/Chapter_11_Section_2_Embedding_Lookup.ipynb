{
 "cells": [
  {
   "cell_type": "markdown",
   "metadata": {},
   "source": [
    "# Embedding Lookup"
   ]
  },
  {
   "cell_type": "code",
   "execution_count": 1,
   "metadata": {},
   "outputs": [],
   "source": [
    "import tensorflow as tf"
   ]
  },
  {
   "cell_type": "markdown",
   "metadata": {},
   "source": [
    "## Practical explanation\n",
    "\n",
    "In the `seq2seq` model we will need to retrieve embeddings for specific words from large tensors that we learn from the model. \n",
    "\n",
    "This is achieved using the `tf.nn.embedding_lookup` function. In it's simplest form it takes a tensor as the `params` argument and the row `ids` and it returns the values of the tensor at each row represented by the `ids`. For example"
   ]
  },
  {
   "cell_type": "code",
   "execution_count": 2,
   "metadata": {},
   "outputs": [
    {
     "name": "stdout",
     "output_type": "stream",
     "text": [
      "[20 10 40 40]\n"
     ]
    }
   ],
   "source": [
    "params = tf.constant([10,20,30,40])\n",
    "ids = tf.constant([1,0,3,3])\n",
    "with tf.Session() as sess: \n",
    "    print(tf.nn.embedding_lookup(params,ids).eval())"
   ]
  },
  {
   "cell_type": "markdown",
   "metadata": {},
   "source": [
    "The params argument can be a list of tensors, rather than a single tensor.\n",
    "\n",
    "In such a case, the indexes, specified in ids, correspond to elements of tensors according to a partition strategy, where the default partition strategy is 'mod'.\n",
    "\n",
    "In the 'mod' strategy, index 0 corresponds to the first element of the first tensor in the list. Index 1 corresponds to the first element of the second tensor. Index 2 corresponds to the first element of the third tensor, and so on. Simply index i corresponds to the first element of the (i+1)th tensor , for all the indexes 0..(n-1), assuming params is a list of n tensors.\n",
    "\n",
    "Now, index n cannot correspond to tensor n+1, because the list params contains only n tensors. So index n corresponds to the second element of the first tensor. Similarly, index n+1 corresponds to the second element of the second tensor, etc\n",
    "\n",
    "Example\n",
    "\n",
    "See\n",
    "https://stackoverflow.com/questions/34870614/what-does-tf-nn-embedding-lookup-function-do"
   ]
  },
  {
   "cell_type": "code",
   "execution_count": 3,
   "metadata": {},
   "outputs": [
    {
     "name": "stdout",
     "output_type": "stream",
     "text": [
      "[ 2  1  2 10  2 20]\n"
     ]
    }
   ],
   "source": [
    "params1 = tf.constant([1,2])\n",
    "params2 = tf.constant([10,20])\n",
    "ids = tf.constant([2,0,2,1,2,3])\n",
    "with tf.Session() as sess:\n",
    "    print(tf.nn.embedding_lookup([params1, params2], ids).eval())"
   ]
  },
  {
   "cell_type": "markdown",
   "metadata": {},
   "source": [
    "index 0 corresponds to the first element of the first tensor: 1\n",
    "\n",
    "index 1 corresponds to the first element of the second tensor: 10\n",
    "\n",
    "index 2 corresponds to the second element of the first tensor: 2\n",
    "\n",
    "index 3 corresponds to the second element of the second tensor: 20\n",
    "\n",
    "See\n",
    "https://stackoverflow.com/questions/34870614/what-does-tf-nn-embedding-lookup-function-do"
   ]
  },
  {
   "cell_type": "markdown",
   "metadata": {},
   "source": [
    "## Code"
   ]
  },
  {
   "cell_type": "code",
   "execution_count": 4,
   "metadata": {},
   "outputs": [],
   "source": [
    "import tensorflow as tf\n",
    "sess = tf.InteractiveSession()"
   ]
  },
  {
   "cell_type": "markdown",
   "metadata": {},
   "source": [
    "Let's say we only have 4 words in our vocabulary: *\"the\"*, *\"fight\"*, *\"wind\"*, and *\"like\"*.\n",
    "\n",
    "Maybe each word is associated with numbers.\n",
    "\n",
    "| Word   | Number | \n",
    "| ------ |:------:|\n",
    "| *'the'*    | 17     |\n",
    "| *'fight'*  | 22     |\n",
    "| *'wind'*   | 35     |  \n",
    "| *'like'*   | 51     |"
   ]
  },
  {
   "cell_type": "code",
   "execution_count": 5,
   "metadata": {},
   "outputs": [],
   "source": [
    "embeddings_0d = tf.constant([17,22,35,51])"
   ]
  },
  {
   "cell_type": "markdown",
   "metadata": {},
   "source": [
    "Or maybe, they're associated with one-hot vectors.\n",
    "\n",
    "| Word   | Vector | \n",
    "| ------ |:------:|\n",
    "| *'the '*   | [1, 0, 0, 0]     |\n",
    "| *'fight'*  | [0, 1, 0, 0]     |\n",
    "| *'wind'*   | [0, 0, 1, 0]     |  \n",
    "| *'like'*   | [0, 0, 0, 1]     |"
   ]
  },
  {
   "cell_type": "code",
   "execution_count": 6,
   "metadata": {},
   "outputs": [],
   "source": [
    "embeddings_4d = tf.constant([[1, 0, 0, 0],\n",
    "                             [0, 1, 0, 0],\n",
    "                             [0, 0, 1, 0],\n",
    "                             [0, 0, 0, 1]])"
   ]
  },
  {
   "cell_type": "markdown",
   "metadata": {},
   "source": [
    "This may sound over the top, but you can have any tensor you want, not just numbers or vectors.\n",
    "\n",
    "| Word   | Tensor | \n",
    "| ------ |:------:|\n",
    "| *'the '*   | [[1, 0] , [0, 0]]    |\n",
    "| *'fight'*  | [[0, 1] , [0, 0]]     |\n",
    "| *'wind'*   | [[0, 0] , [1, 0]]     |  \n",
    "| *'like'*   | [[0, 0] , [0, 1]]     |"
   ]
  },
  {
   "cell_type": "code",
   "execution_count": 7,
   "metadata": {},
   "outputs": [],
   "source": [
    "embeddings_2x2d = tf.constant([[[1, 0], [0, 0]],\n",
    "                               [[0, 1], [0, 0]],\n",
    "                               [[0, 0], [1, 0]],\n",
    "                               [[0, 0], [0, 1]]])"
   ]
  },
  {
   "cell_type": "markdown",
   "metadata": {},
   "source": [
    "Let's say we want to find the embeddings for the sentence, \"fight the wind\"."
   ]
  },
  {
   "cell_type": "code",
   "execution_count": 8,
   "metadata": {},
   "outputs": [],
   "source": [
    "ids = tf.constant([1, 0, 2])"
   ]
  },
  {
   "cell_type": "markdown",
   "metadata": {},
   "source": [
    "We can use the `embedding_lookup` function provided by TensorFlow:"
   ]
  },
  {
   "cell_type": "code",
   "execution_count": 9,
   "metadata": {},
   "outputs": [
    {
     "name": "stdout",
     "output_type": "stream",
     "text": [
      "[22 17 35]\n"
     ]
    }
   ],
   "source": [
    "lookup_0d = sess.run(tf.nn.embedding_lookup(embeddings_0d, ids))\n",
    "print(lookup_0d)"
   ]
  },
  {
   "cell_type": "code",
   "execution_count": 10,
   "metadata": {},
   "outputs": [
    {
     "name": "stdout",
     "output_type": "stream",
     "text": [
      "[[0 1 0 0]\n",
      " [1 0 0 0]\n",
      " [0 0 1 0]]\n"
     ]
    }
   ],
   "source": [
    "lookup_4d = sess.run(tf.nn.embedding_lookup(embeddings_4d, ids))\n",
    "print(lookup_4d)"
   ]
  },
  {
   "cell_type": "code",
   "execution_count": 11,
   "metadata": {},
   "outputs": [
    {
     "name": "stdout",
     "output_type": "stream",
     "text": [
      "[[[0 1]\n",
      "  [0 0]]\n",
      "\n",
      " [[1 0]\n",
      "  [0 0]]\n",
      "\n",
      " [[0 0]\n",
      "  [1 0]]]\n"
     ]
    }
   ],
   "source": [
    "lookup_2x2d = sess.run(tf.nn.embedding_lookup(embeddings_2x2d, ids))\n",
    "print(lookup_2x2d)"
   ]
  }
 ],
 "metadata": {
  "kernelspec": {
   "display_name": "Python [default]",
   "language": "python",
   "name": "python3"
  },
  "language_info": {
   "codemirror_mode": {
    "name": "ipython",
    "version": 3
   },
   "file_extension": ".py",
   "mimetype": "text/x-python",
   "name": "python",
   "nbconvert_exporter": "python",
   "pygments_lexer": "ipython3",
   "version": "3.5.6"
  }
 },
 "nbformat": 4,
 "nbformat_minor": 1
}
