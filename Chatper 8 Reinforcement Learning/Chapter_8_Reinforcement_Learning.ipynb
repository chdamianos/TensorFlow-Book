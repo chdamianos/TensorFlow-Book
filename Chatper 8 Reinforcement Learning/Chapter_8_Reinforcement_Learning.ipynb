{
 "cells": [
  {
   "cell_type": "markdown",
   "metadata": {},
   "source": [
    "# Ch `08`: Concept `01` Reinforcement learning"
   ]
  },
  {
   "cell_type": "markdown",
   "metadata": {},
   "source": [
    "## Practical explanation\n",
    "\n",
    "### Introduction\n",
    "RL is about training a NN to be able to decide on an action based on the best chances to get a reward. This reward doesn't need to be immediate, i.e. it can anticipate long term changes and adapt to gain long-term rewards rather than short-term. \n",
    "\n",
    "\n",
    "### Algorithm\n",
    "\n",
    "#### Step 1 - Initialize\n",
    "Initialise algorithm so that there is an initial state. In our example the state is a vector with the prices of stocks over a time period (in the \"past\"), the available budget and the number of shares we have bought. \n",
    "\n",
    "\\begin{equation*}\n",
    "\\mathbf{state} =   \\begin{pmatrix}\n",
    "  price_{1} \\\\\n",
    "  price_{2} \\\\\n",
    "  \\vdots \\\\\n",
    "  price_{n} \\\\\n",
    "  budget  \\\\\n",
    "  share_{number}\n",
    " \\end{pmatrix}\n",
    "\\end{equation*}\n",
    "\n",
    "The size of the time period in the past that we are going to consider is a hyperparameter that determines the size of $\\mathbf{state}$.\n",
    "\n",
    "In the code the state is initialised in function `run_simulation`\n",
    "\n",
    "```python\n",
    "current_state = np.asmatrix(np.hstack((prices[i:i+hist], budget, num_stocks)))\n",
    "\n",
    "```\n",
    "#### Step 2 - Select action\n",
    "Selection action to perform. The action is selected either randomly or using the NN model. In the start of algorithm steps we want to do more `exploration` rather than `exploitation` since at first our model will not know that much.\n",
    "\n",
    "This step is performed in the `select_action` method\n",
    "\n",
    "```python\n",
    "def select_action(self, current_state, step):\n",
    "    threshold = min(self.epsilon, step / 1000.)\n",
    "    if random.random() < threshold:\n",
    "        action_q_vals = self.sess.run(self.q, feed_dict={self.x: current_state})\n",
    "        action_idx = np.argmax(action_q_vals)\n",
    "        action = self.actions[action_idx]\n",
    "    else:\n",
    "        action = self.actions[random.randint(0, len(self.actions) - 1)]\n",
    "    return action\n",
    "```\n",
    "\n",
    "The important code line is `action_q_vals = self.sess.run(self.q, feed_dict={self.x: current_state})` here we run our state through the NN model and get back the `relu` activation values. These are trained to predict the `utility` of each action, which is our `reward` taking into account long-term rewards. `action_q_vals` is a vector with size equal to the size of our actions. So each element represents the potential `utility` of taking an action. We take the action that can maximize the `utility` using `action_idx = np.argmax(action_q_vals)`.\n",
    "\n",
    "#### Step 3 - Calculate new state\n",
    "\n",
    "Based on the results of step 2, we take an action. In the case of our example it's either `sell`, `buy`, `hold`. So if the action is to `buy` we buy the stock at it's current share value, which is not part of the $\\mathbf{state}$. \n",
    "\n",
    "$current_{value}=price_{n+1}$.\n",
    "\n",
    "We calculate the new state based on our action.\n",
    "\n",
    "\\begin{equation*}\n",
    "\\mathbf{state_{new}} =   \\begin{pmatrix}\n",
    "  price_{2} \\\\\n",
    "  price_{3} \\\\\n",
    "  \\vdots \\\\\n",
    "  price_{n+1} \\\\\n",
    "  budget_{new}  \\\\\n",
    "  share_{number_{new}}\n",
    " \\end{pmatrix}\n",
    "\\end{equation*}\n",
    "\n",
    "#### Step 4 - Calculate reward\n",
    "\n",
    "Now we calculate our `reward`, this is our immediate gain.\n",
    "\n",
    "$reward=(budget_{new}+share_{number_{new}} \\times current_{value}) - (budget_{old}+share_{number_{old}} \\times current_{value})$\n",
    "\n",
    "#### Step 5 - Correct utility of current action\n",
    "\n",
    "Based on $\\mathbf{state_{old}}$ and $\\mathbf{state_{new}}$ we update our `policy`. This is the part we train the NN model. \n",
    "\n",
    "This step takes place in the `update_q` function\n",
    "```python\n",
    "    def update_q(self, state, action, reward, next_state, writer, i):\n",
    "        action_q_vals = self.sess.run(self.q, feed_dict={self.x: state})\n",
    "        next_action_q_vals = self.sess.run(self.q, feed_dict={self.x: next_state})\n",
    "        next_best_action_idx = np.argmax(next_action_q_vals)\n",
    "        current_action_idx = self.actions.index(action)\n",
    "        action_q_vals[0, current_action_idx] = reward + \\\n",
    "                                self.gamma * next_action_q_vals[0, next_best_action_idx]\n",
    "        action_q_vals = np.squeeze(np.asarray(action_q_vals))\n",
    "        _, lossSumm = self.sess.run([self.train_op, self.loss_summary], \n",
    "                                    feed_dict={self.x: state, self.y: action_q_vals})\n",
    "```\n",
    "\n",
    "We get our current `utility` function values for each action using `action_q_vals = self.sess.run(self.q, feed_dict={self.x: state})`(this is done in the `select_action` function also). \n",
    "\n",
    "Then using our calculated $\\mathbf{state_{new}}$ we get the `utility` function values for each action based on our new state, which depends on the previous state: `next_action_q_vals = self.sess.run(self.q, feed_dict={self.x: next_state})`\n",
    "\n",
    "We calculate, based on the utility function values, which is the best **next action** to take: `next_best_action_idx = np.argmax(next_action_q_vals)`. This allows to \"correct\" the reward of our **current action** based on long term consequences.\n",
    "\n",
    "The correction is performed using the following equation:\n",
    "\n",
    "\\begin{equation*}\n",
    "utility_{current} =  reward + \\gamma \\times utility_{next}\n",
    "\\end{equation*}\n",
    "\n",
    "**Note that this changes the utility of the current action only, so only an element of the `action_q_vals`**\n",
    "\n",
    "If $\\gamma$ is zero then we don't take into account long term consequences of our actions. \n",
    "This equation is implemented by `action_q_vals[0, current_action_idx] = reward + self.gamma * next_action_q_vals[0, next_best_action_idx]`.\n",
    "\n",
    "We could also generalize and take into account more actions than just the next, i.e. the one after next etc.\n",
    "\n",
    "\\begin{equation*}\n",
    "utility_{0} =  reward + \\gamma_{1} \\times utility_{1} + \\gamma_{2} \\times utility_{2} +... + \\gamma_{k} \\times utility_{k}\n",
    "\\end{equation*}\n",
    "\n",
    "There is also another equation that intoduces another parameter $\\alpha$, which aims to make newly available information less/more important than historical records.\n",
    "\n",
    "\\begin{equation*}\n",
    "utility_{current} =  (1-\\alpha) \\times utility_{current}+\\alpha \\times (reward + \\gamma \\times utility_{next})\n",
    "\\end{equation*}\n",
    "\n",
    "If $\\alpha$ is increased then we expect our `agent` (the decision maker) to learn to solve tasks faster but not optimal.If $\\alpha$ is decreased our `agent` is allowed more time to explore and exploit. \n",
    "\n",
    "#### Step 6 - Train NN model\n",
    "\n",
    "Now we train our NN based on the input, our current state `state` and the corrected `utility` values of our current action that takes into account future consequences.\n",
    "\n",
    "The training call is in function `_, lossSumm = self.sess.run([self.train_op, self.loss_summary],feed_dict={self.x: state, self.y: action_q_vals})`. This will update our NN model parameters so that our state produces `relu` activations that better agree with the corrected utility values of our current action `action_q_vals`, rather than the original that were derived from the same input `state`.\n",
    "\n"
   ]
  },
  {
   "cell_type": "markdown",
   "metadata": {},
   "source": [
    "## Code"
   ]
  },
  {
   "cell_type": "markdown",
   "metadata": {},
   "source": [
    "The **states** are previous history of stock prices, current budget, and current number of shares of a stock.\n",
    "\n",
    "The **actions** are buy, sell, or hold (i.e. do nothing).\n",
    "\n",
    "The stock market data comes from the Yahoo Finance library, `pip install yahoo-finance`."
   ]
  },
  {
   "cell_type": "code",
   "execution_count": 1,
   "metadata": {},
   "outputs": [],
   "source": [
    "%matplotlib inline\n",
    "from yahoo_finance import Share\n",
    "from matplotlib import pyplot as plt\n",
    "import numpy as np\n",
    "import random\n",
    "import tensorflow as tf\n",
    "import tqdm\n",
    "import datetime as dt"
   ]
  },
  {
   "cell_type": "markdown",
   "metadata": {},
   "source": [
    "Define an abstract class called `DecisionPolicy`:"
   ]
  },
  {
   "cell_type": "code",
   "execution_count": 2,
   "metadata": {},
   "outputs": [],
   "source": [
    "# it's a good idea to create a class with the relevant methods to\n",
    "# reference later, such as an abstract class or interface\n",
    "class DecisionPolicy:\n",
    "    # Basically, reinforcement learning needs two operations well defined:\n",
    "    def select_action(self, current_state, step):\n",
    "        # (1) how to select an action\n",
    "        pass\n",
    "\n",
    "    def update_q(self, state, action, reward, next_state):\n",
    "        # (2) how to improve the utility Q-function\n",
    "        pass"
   ]
  },
  {
   "cell_type": "markdown",
   "metadata": {},
   "source": [
    "Here's one way we could implement the decision policy, called a random decision policy:"
   ]
  },
  {
   "cell_type": "code",
   "execution_count": 3,
   "metadata": {},
   "outputs": [],
   "source": [
    "# let's inherit from `DecisionPolicy` superclass to implement a random decision policy\n",
    "# it's a good idea to test our poly against a random policy or a \"greedy\" policy (not implemented) that \n",
    "# just takes the action that maximizes current reward\n",
    "class RandomDecisionPolicy(DecisionPolicy):# Inherit from DecisionPolicy to implement its functions\n",
    "    def __init__(self, actions):\n",
    "        self.actions = actions\n",
    "\n",
    "    def select_action(self, current_state, step):\n",
    "        # Randomly choose the next action\n",
    "        action = random.choice(self.actions)\n",
    "        return action"
   ]
  },
  {
   "cell_type": "markdown",
   "metadata": {},
   "source": [
    "That's a good baseline. Now let's use a smarter approach using a neural network:"
   ]
  },
  {
   "cell_type": "code",
   "execution_count": 4,
   "metadata": {},
   "outputs": [],
   "source": [
    "class QLearningDecisionPolicy(DecisionPolicy):\n",
    "    def __init__(self, actions, input_dim):\n",
    "        # Set the hyper-parameters from the Q-function\n",
    "        self.epsilon = 0.95\n",
    "        self.gamma = 0.3\n",
    "        self.actions = actions\n",
    "        output_dim = len(actions)\n",
    "        # Set the number of hidden nodes in the neural networks\n",
    "        h1_dim = 20\n",
    "        # Define the input and output tensors\n",
    "        self.x = tf.placeholder(tf.float32, [None, input_dim])\n",
    "        self.y = tf.placeholder(tf.float32, [output_dim])\n",
    "        # Design the neural network architecture\n",
    "        W1 = tf.Variable(tf.random_normal([input_dim, h1_dim]))\n",
    "        b1 = tf.Variable(tf.constant(0.1, shape=[h1_dim]))\n",
    "        h1 = tf.nn.relu(tf.matmul(self.x, W1) + b1)\n",
    "        W2 = tf.Variable(tf.random_normal([h1_dim, output_dim]))\n",
    "        b2 = tf.Variable(tf.constant(0.1, shape=[output_dim]))\n",
    "        # Define the op to compute the utility\n",
    "        self.q = tf.nn.relu(tf.matmul(h1, W2) + b2)\n",
    "        # Set the loss as the square error\n",
    "        self.loss = tf.square(self.y - self.q)\n",
    "        # set loss summary for tensorboard\n",
    "        self.loss_summary = tf.summary.scalar('loss', tf.reduce_mean(self.loss))\n",
    "        # Use an optimizer to update model parameters to minimize the loss\n",
    "        self.train_op = tf.train.AdagradOptimizer(0.01).minimize(self.loss)\n",
    "        # Set up the session and initialize variables\n",
    "        self.sess = tf.Session()\n",
    "        self.sess.run(tf.global_variables_initializer())\n",
    "\n",
    "\n",
    "    def select_action(self, current_state, step):\n",
    "        # select minimum between epsilon and step/1000 because\n",
    "        # at the begining we want to explore so that our algorithm learns\n",
    "        # before it can make policies\n",
    "        threshold = min(self.epsilon, step / 1000.)\n",
    "        if random.random() < threshold:\n",
    "            # Exploit best option with probability epsilon\n",
    "            action_q_vals = self.sess.run(self.q, feed_dict={self.x: current_state})\n",
    "            action_idx = np.argmax(action_q_vals)  # TODO: replace w/ tensorflow's argmax\n",
    "            action = self.actions[action_idx]\n",
    "        else:\n",
    "            # Explore random option with probability 1 - epsilon\n",
    "            action = self.actions[random.randint(0, len(self.actions) - 1)]\n",
    "        return action\n",
    "\n",
    "    def update_q(self, state, action, reward, next_state, writer, i):\n",
    "        \"\"\"Update the Q-function by updating its model parameters\"\"\"\n",
    "        # calculate utilities of each action for current state\n",
    "        action_q_vals = self.sess.run(self.q, feed_dict={self.x: state})\n",
    "        # calculate utilities of each action for next state\n",
    "        next_action_q_vals = self.sess.run(self.q, feed_dict={self.x: next_state})\n",
    "        # find next action that will maximise the utility when we are in the next state\n",
    "        next_best_action_idx = np.argmax(next_action_q_vals)\n",
    "        # find index of current action\n",
    "        current_action_idx = self.actions.index(action)\n",
    "        # now we need to \"correct\" the utility of current action by looking at the utility of next best action\n",
    "        # conditional on the current state. In other words the next state depends on the current state.\n",
    "        # the higher the gamma hyperparameter the more we take into account future rewards for current actions\n",
    "        # if gamma is zero then we ignore any long term rewards (consequences of our actions)\n",
    "        # I guess we could add more future states and best actions to make our algorithm better at long term actions\n",
    "        # i.e. action_q_vals[0, current_action_idx] = reward + self.gamma1 * next_action_q_vals[0, next_best_action_idx]\n",
    "        # + self.gamma2 * next_next_action_q_vals[0, next_next_best_action_idx]\n",
    "        action_q_vals[0, current_action_idx] = reward + \\\n",
    "                                               self.gamma * next_action_q_vals[0, next_best_action_idx]\n",
    "        action_q_vals = np.squeeze(np.asarray(action_q_vals))\n",
    "        # have the nn learn a function that minimizes the difference between the \n",
    "        # current uncorrected action and the corrected\n",
    "        # ones based on future consequences\n",
    "        _, lossSumm = self.sess.run([self.train_op, self.loss_summary], \n",
    "                                    feed_dict={self.x: state, self.y: action_q_vals})\n",
    "        writer.add_summary(summary=lossSumm, global_step=i)\n",
    "        writer.add_graph(self.sess.graph)\n",
    "        writer.flush()"
   ]
  },
  {
   "cell_type": "markdown",
   "metadata": {},
   "source": [
    "Define a function to run a simulation of buying and selling stocks from a market:"
   ]
  },
  {
   "cell_type": "code",
   "execution_count": 5,
   "metadata": {},
   "outputs": [],
   "source": [
    "def run_simulation(policy, initial_budget, initial_num_stocks, prices, hist, writer):\n",
    "    # Initialize values that depend on computing the net worth of a portfolio\n",
    "    budget = initial_budget\n",
    "    num_stocks = initial_num_stocks\n",
    "    share_value = 0\n",
    "    transitions = list()\n",
    "    for i in tqdm.tqdm(range(len(prices) - hist - 1)):\n",
    "        # The state is a `hist+2` dimensional vector. We’ll force it to by a numpy matrix.\n",
    "        current_state = np.asmatrix(np.hstack((prices[i:i+hist], budget, num_stocks)))\n",
    "        # Calculate the portfolio value\n",
    "        current_portfolio = budget + num_stocks * share_value\n",
    "        # Select an action from the current policy\n",
    "        action = policy.select_action(current_state, i)\n",
    "        share_value = float(prices[i + hist])\n",
    "        # Update portfolio values based on action\n",
    "        if action == 'Buy' and budget >= share_value:\n",
    "            budget -= share_value\n",
    "            num_stocks += 1\n",
    "        elif action == 'Sell' and num_stocks > 0:\n",
    "            budget += share_value\n",
    "            num_stocks -= 1\n",
    "        else:\n",
    "            action = 'Hold'\n",
    "        # Compute new portfolio value after taking action\n",
    "        new_portfolio = budget + num_stocks * share_value\n",
    "        # Compute the reward from taking an action at a state\n",
    "        reward = new_portfolio - current_portfolio\n",
    "        next_state = np.asmatrix(np.hstack((prices[i+1:i+hist+1], budget, num_stocks)))\n",
    "        transitions.append((current_state, action, reward, next_state))\n",
    "        # Update the policy after experiencing a new action\n",
    "        # This is when we train our model\n",
    "        policy.update_q(current_state, action, reward, next_state, writer, i)\n",
    "    # Compute final portfolio worth\n",
    "    portfolio = budget + num_stocks * share_value\n",
    "    return portfolio"
   ]
  },
  {
   "cell_type": "markdown",
   "metadata": {},
   "source": [
    "We want to run simulations multiple times and average out the performances:"
   ]
  },
  {
   "cell_type": "code",
   "execution_count": 6,
   "metadata": {},
   "outputs": [],
   "source": [
    "def run_simulations(policy, budget, num_stocks, prices, hist):\n",
    "    # Decide number of times to re-run the simulations\n",
    "    num_tries = 3\n",
    "    # Store portfolio worth of each run in this array\n",
    "    final_portfolios = list()\n",
    "    # initial portfolio value\n",
    "    portfolio = budget\n",
    "    for i in range(num_tries):\n",
    "        # tensorboard writer\n",
    "        # *** TENSORBOARD ***\n",
    "        # set directory to collect saved summary tensors with each run\n",
    "        # based on run time\n",
    "        now = dt.datetime.now()\n",
    "        currentDir = \"./logs/\" + now.strftime(\"%Y%m%d-%H%M%S\") + \"/\"\n",
    "        # create writer and set directory and graph\n",
    "        writer = tf.summary.FileWriter(currentDir)\n",
    "        print('Running simulation {}...'.format(i + 1))\n",
    "        print('Starting budget portfolio: ${}'.format(portfolio))\n",
    "        final_portfolio = run_simulation(policy, budget, num_stocks, prices, hist, writer)\n",
    "        final_portfolios.append(final_portfolio)\n",
    "        print('Final portfolio: ${}'.format(final_portfolio))\n",
    "        writer.close()\n",
    "    # Average the values from all the runs\n",
    "    avg, std = np.mean(final_portfolios), np.std(final_portfolios)\n",
    "    return avg, std"
   ]
  },
  {
   "cell_type": "markdown",
   "metadata": {},
   "source": [
    "Call the following function to use the Yahoo Finance library and obtain useful stockmarket data. "
   ]
  },
  {
   "cell_type": "code",
   "execution_count": 7,
   "metadata": {},
   "outputs": [],
   "source": [
    "def get_prices(share_symbol, start_date, end_date, cache_filename='stock_prices.npy'):\n",
    "    try:\n",
    "        stock_prices = np.load(cache_filename)\n",
    "    except IOError:\n",
    "        share = Share(share_symbol)\n",
    "        stock_hist = share.get_historical(start_date, end_date)\n",
    "        stock_prices = [stock_price['Open'] for stock_price in stock_hist]\n",
    "        np.save(cache_filename, stock_prices)\n",
    "\n",
    "    return stock_prices.astype(float)"
   ]
  },
  {
   "cell_type": "markdown",
   "metadata": {},
   "source": [
    "Who wants to deal with stock market data without looking a pretty plots? No one. So we need this out of law:"
   ]
  },
  {
   "cell_type": "code",
   "execution_count": 8,
   "metadata": {},
   "outputs": [],
   "source": [
    "def plot_prices(prices):\n",
    "    plt.title('Opening stock prices')\n",
    "    plt.xlabel('day')\n",
    "    plt.ylabel('price ($)')\n",
    "    plt.plot(prices)\n",
    "    plt.savefig('prices.png')\n",
    "    plt.show()"
   ]
  },
  {
   "cell_type": "markdown",
   "metadata": {},
   "source": [
    "Train a reinforcement learning policy:"
   ]
  },
  {
   "cell_type": "code",
   "execution_count": 9,
   "metadata": {},
   "outputs": [
    {
     "data": {
      "image/png": "[encoded data removed]",
      "text/plain": [
       "<Figure size 432x288 with 1 Axes>"
      ]
     },
     "metadata": {
      "needs_background": "light"
     },
     "output_type": "display_data"
    },
    {
     "name": "stderr",
     "output_type": "stream",
     "text": [
      "  0%|          | 14/5846 [00:00<00:42, 135.67it/s]"
     ]
    },
    {
     "name": "stdout",
     "output_type": "stream",
     "text": [
      "Running simulation 1...\n",
      "Starting budget portfolio: $1000.0\n"
     ]
    },
    {
     "name": "stderr",
     "output_type": "stream",
     "text": [
      "100%|██████████| 5846/5846 [00:39<00:00, 146.70it/s]\n",
      "  0%|          | 19/5846 [00:00<00:30, 188.74it/s]"
     ]
    },
    {
     "name": "stdout",
     "output_type": "stream",
     "text": [
      "Final portfolio: $1573.7650420000004\n",
      "Running simulation 2...\n",
      "Starting budget portfolio: $1000.0\n"
     ]
    },
    {
     "name": "stderr",
     "output_type": "stream",
     "text": [
      "100%|██████████| 5846/5846 [00:36<00:00, 170.98it/s]\n",
      "  0%|          | 21/5846 [00:00<00:27, 209.27it/s]"
     ]
    },
    {
     "name": "stdout",
     "output_type": "stream",
     "text": [
      "Final portfolio: $1617.4550170000002\n",
      "Running simulation 3...\n",
      "Starting budget portfolio: $1000.0\n"
     ]
    },
    {
     "name": "stderr",
     "output_type": "stream",
     "text": [
      "100%|██████████| 5846/5846 [00:36<00:00, 160.76it/s]"
     ]
    },
    {
     "name": "stdout",
     "output_type": "stream",
     "text": [
      "Final portfolio: $1620.3799610000003\n"
     ]
    },
    {
     "name": "stderr",
     "output_type": "stream",
     "text": [
      "\n"
     ]
    }
   ],
   "source": [
    "if __name__ == '__main__':\n",
    "    prices = get_prices('MSFT', '1992-07-22', '2016-07-22')\n",
    "    plot_prices(prices)\n",
    "    # Define the list of actions the agent can take\n",
    "    actions = ['Buy', 'Sell', 'Hold']\n",
    "    hist = 200\n",
    "    # Initial a random decision policy\n",
    "    # policy = RandomDecisionPolicy(actions)\n",
    "    policy = QLearningDecisionPolicy(actions, hist + 2)\n",
    "    # Set the initial amount of money available to use\n",
    "    budget = 1000.0\n",
    "    # Set the number of stocks already owned\n",
    "    num_stocks = 0\n",
    "    # Run simulations multiple times to compute expected value of final net worth\n",
    "    run_simulations(policy, budget, num_stocks, prices, hist)"
   ]
  }
 ],
 "metadata": {
  "kernelspec": {
   "display_name": "Python [conda env:tfCPU]",
   "language": "python",
   "name": "conda-env-tfCPU-py"
  },
  "language_info": {
   "codemirror_mode": {
    "name": "ipython",
    "version": 3
   },
   "file_extension": ".py",
   "mimetype": "text/x-python",
   "name": "python",
   "nbconvert_exporter": "python",
   "pygments_lexer": "ipython3",
   "version": "3.5.6"
  }
 },
 "nbformat": 4,
 "nbformat_minor": 1
}
